{
  "nbformat": 4,
  "nbformat_minor": 0,
  "metadata": {
    "colab": {
      "provenance": []
    },
    "kernelspec": {
      "name": "python3",
      "display_name": "Python 3"
    },
    "language_info": {
      "name": "python"
    }
  },
  "cells": [
    {
      "cell_type": "markdown",
      "source": [
        "## Building a GPT\n",
        "\n",
        "Following Andrej Karpathy video for building transformers . I will be using his notebook but will be typing the code myself, so that I learn what has been done in the notebook, and comment and improve the notebook in any way I can\n",
        "\n",
        "\n",
        "This file is a script of the play \"Coriolanus\" by William Shakespeare."
      ],
      "metadata": {
        "id": "wJpXpmjEYC_T"
      }
    },
    {
      "cell_type": "code",
      "execution_count": null,
      "metadata": {
        "colab": {
          "base_uri": "https://localhost:8080/"
        },
        "id": "h5hjCcLDr2WC",
        "outputId": "c29c4a78-02e3-4fbb-f92d-a850315dffdf"
      },
      "outputs": [
        {
          "output_type": "stream",
          "name": "stdout",
          "text": [
            "--2025-09-25 04:14:48--  https://raw.githubusercontent.com/karpathy/char-rnn/master/data/tinyshakespeare/input.txt\n",
            "Resolving raw.githubusercontent.com (raw.githubusercontent.com)... 185.199.110.133, 185.199.111.133, 185.199.109.133, ...\n",
            "Connecting to raw.githubusercontent.com (raw.githubusercontent.com)|185.199.110.133|:443... connected.\n",
            "HTTP request sent, awaiting response... 200 OK\n",
            "Length: 1115394 (1.1M) [text/plain]\n",
            "Saving to: ‘input.txt.1’\n",
            "\n",
            "\rinput.txt.1           0%[                    ]       0  --.-KB/s               \rinput.txt.1         100%[===================>]   1.06M  --.-KB/s    in 0.02s   \n",
            "\n",
            "2025-09-25 04:14:48 (59.2 MB/s) - ‘input.txt.1’ saved [1115394/1115394]\n",
            "\n"
          ]
        }
      ],
      "source": [
        "!wget https://raw.githubusercontent.com/karpathy/char-rnn/master/data/tinyshakespeare/input.txt"
      ]
    },
    {
      "cell_type": "code",
      "source": [
        "# Read the first few lines of the file\n",
        "with open('input.txt','r') as f:\n",
        "  content=f.read()\n",
        "  print(content[:100])\n",
        "  print(f'This is {len(content)} characters long')\n",
        "\n",
        "# Count no of words\n",
        "words=content.split()\n",
        "print(f'This is {len(words)} words long')\n"
      ],
      "metadata": {
        "id": "O6medjfRsLD9",
        "colab": {
          "base_uri": "https://localhost:8080/"
        },
        "outputId": "1be9ec1c-fb7c-4398-c89a-39918dab1c0e"
      },
      "execution_count": null,
      "outputs": [
        {
          "output_type": "stream",
          "name": "stdout",
          "text": [
            "First Citizen:\n",
            "Before we proceed any further, hear me speak.\n",
            "\n",
            "All:\n",
            "Speak, speak.\n",
            "\n",
            "First Citizen:\n",
            "You\n",
            "This is 1115394 characters long\n",
            "This is 202651 words long\n"
          ]
        }
      ]
    },
    {
      "cell_type": "code",
      "source": [
        "# here are all the unique characters that occur in this text\n",
        "print(''.join(set(content)))\n",
        "vocab_size=len(set(content))\n",
        "unique_words=len(set(words))\n",
        "print(f'The play has {vocab_size} characters and {unique_words} words')"
      ],
      "metadata": {
        "colab": {
          "base_uri": "https://localhost:8080/"
        },
        "id": "0e-Rbyr8sfM8",
        "outputId": "ce7462e8-7852-4de7-f9fd-d4a01db18ef0"
      },
      "execution_count": null,
      "outputs": [
        {
          "output_type": "stream",
          "name": "stdout",
          "text": [
            "wVJpnGWB&dv3L;-:FOqKNTRtYAc$gShHE?bXMoIu!PezQ.s'\n",
            "flymr, CikaZxUjD\n",
            "The play has 65 characters and 25670 words\n"
          ]
        }
      ]
    },
    {
      "cell_type": "code",
      "source": [
        "# create a mapping from characters to integers\n",
        "# Need a dictionary which encodes english to integers\n",
        "# Need a dictionary which takes those integers and spits out english\n",
        "\n",
        "vocab=sorted(set(content))\n",
        "encoded_lkp_tbl={char:i for i,char in enumerate(vocab)}\n",
        "reverse_lkp_tbl={i:char for i,char in enumerate(vocab)}\n",
        "\n",
        "\n",
        "def encode(s):\n",
        " encd_s=[encoded_lkp_tbl[char] for char in s]\n",
        " return (encd_s)\n",
        "\n",
        "def decode(integer_sequence):\n",
        "  decoded_s=[reverse_lkp_tbl[i] for i in integer_sequence]\n",
        "  return ''.join(decoded_s)\n",
        "\n",
        "\n",
        "print(encode(\"hii there\"))\n",
        "print(decode(encode(\"hii there\")))"
      ],
      "metadata": {
        "colab": {
          "base_uri": "https://localhost:8080/"
        },
        "id": "Yw1LKNCgwjj1",
        "outputId": "c8e5838b-e158-4500-ae8f-64b48457365a"
      },
      "execution_count": null,
      "outputs": [
        {
          "output_type": "stream",
          "name": "stdout",
          "text": [
            "[46, 47, 47, 1, 58, 46, 43, 56, 43]\n",
            "hii there\n"
          ]
        }
      ]
    },
    {
      "cell_type": "code",
      "source": [
        "#Rewriting the functions because I liked the way how lambda function is used\n",
        "#in the original colab notebook\n",
        "# and also creating two dictionaries is better than creating 1 dictionary\n",
        "# because the logic for getting keys based on values isn't nice\n",
        "\n",
        "# Archiving 2025\n",
        "#encode = lambda e:[lkp_tbl[char] for char in e]\n",
        "#print(encode(\"hii there\"))\n"
      ],
      "metadata": {
        "id": "RTNxoVgEsIto"
      },
      "execution_count": null,
      "outputs": []
    },
    {
      "cell_type": "code",
      "source": [
        "# let's now encode the entire text dataset and store it into a torch.Tensor\n",
        "import torch\n",
        "data=torch.tensor(encode(content))\n",
        "print(data[:100])\n",
        "data.shape,data.dtype"
      ],
      "metadata": {
        "colab": {
          "base_uri": "https://localhost:8080/"
        },
        "id": "YJb0OXPwzvqg",
        "outputId": "d8c2d8f4-02f3-4a84-a31f-443438f0ed58"
      },
      "execution_count": null,
      "outputs": [
        {
          "output_type": "stream",
          "name": "stdout",
          "text": [
            "tensor([18, 47, 56, 57, 58,  1, 15, 47, 58, 47, 64, 43, 52, 10,  0, 14, 43, 44,\n",
            "        53, 56, 43,  1, 61, 43,  1, 54, 56, 53, 41, 43, 43, 42,  1, 39, 52, 63,\n",
            "         1, 44, 59, 56, 58, 46, 43, 56,  6,  1, 46, 43, 39, 56,  1, 51, 43,  1,\n",
            "        57, 54, 43, 39, 49,  8,  0,  0, 13, 50, 50, 10,  0, 31, 54, 43, 39, 49,\n",
            "         6,  1, 57, 54, 43, 39, 49,  8,  0,  0, 18, 47, 56, 57, 58,  1, 15, 47,\n",
            "        58, 47, 64, 43, 52, 10,  0, 37, 53, 59])\n"
          ]
        },
        {
          "output_type": "execute_result",
          "data": {
            "text/plain": [
              "(torch.Size([1115394]), torch.int64)"
            ]
          },
          "metadata": {},
          "execution_count": 8
        }
      ]
    },
    {
      "cell_type": "code",
      "source": [
        "# Example\n",
        "print(data[:9])\n",
        "decode(data[:9].tolist())\n",
        "\n"
      ],
      "metadata": {
        "colab": {
          "base_uri": "https://localhost:8080/",
          "height": 53
        },
        "id": "FwitrtjlxBDH",
        "outputId": "1abfce68-1806-4b00-ab30-3cf6bedc74e8"
      },
      "execution_count": null,
      "outputs": [
        {
          "output_type": "stream",
          "name": "stdout",
          "text": [
            "tensor([18, 47, 56, 57, 58,  1, 15, 47, 58])\n"
          ]
        },
        {
          "output_type": "execute_result",
          "data": {
            "text/plain": [
              "'First Cit'"
            ],
            "application/vnd.google.colaboratory.intrinsic+json": {
              "type": "string"
            }
          },
          "metadata": {},
          "execution_count": 9
        }
      ]
    },
    {
      "cell_type": "markdown",
      "source": [
        "Why we cannot split the data randomly ?\n"
      ],
      "metadata": {
        "id": "NVKpdP9gwTZr"
      }
    },
    {
      "cell_type": "code",
      "source": [
        "# Let's now split up the data into train and validation sets\n",
        "# The author chose to partition the data based on length, however I am using sampling to split the data.\n",
        "# The reason being I don't know the behavior of first 90% of the data versus the rest of the data\n",
        "\n",
        "# We cannot use the below code. Train Test Split does shuffling and if we shuffle then sentences/words lose their meaning\n",
        "\n",
        "#from sklearn.model_selection  import train_test_split\n",
        "#train_data,val_data=train_test_split(data,test_size=0.1,random_state=40)\n",
        "\n",
        "\n",
        "split=int(0.9*len(data))\n",
        "train_data=data[:split]\n",
        "val_data=data[split:]\n",
        "\n",
        "\n",
        "# assert len(data) == len(train_data)+len(val_data)\n"
      ],
      "metadata": {
        "id": "f_WIXqxz0lU5"
      },
      "execution_count": null,
      "outputs": []
    },
    {
      "cell_type": "code",
      "source": [
        "# Chose a window. Choosing a window is important because of attention mechanism.\n",
        "\n",
        "#The notebook generates sequence character by character. The simplest way is to input the current token and based on\n",
        "# current token generate the future token. Let's work toward this\n",
        "block_size = 8  #window_size\n",
        "sample=train_data[:block_size+1]   #+1 because we need the target for our entire block\n",
        "for i in range(1,len(sample)):\n",
        "    print(f'when the context is {sample[:i]} the target is {sample[i]}')\n"
      ],
      "metadata": {
        "colab": {
          "base_uri": "https://localhost:8080/"
        },
        "id": "9HXDe8vGJCEn",
        "outputId": "10d92955-cd67-4c9b-b5bd-197b152bb66c"
      },
      "execution_count": null,
      "outputs": [
        {
          "output_type": "stream",
          "name": "stdout",
          "text": [
            "when the context is tensor([18]) the target is 47\n",
            "when the context is tensor([18, 47]) the target is 56\n",
            "when the context is tensor([18, 47, 56]) the target is 57\n",
            "when the context is tensor([18, 47, 56, 57]) the target is 58\n",
            "when the context is tensor([18, 47, 56, 57, 58]) the target is 1\n",
            "when the context is tensor([18, 47, 56, 57, 58,  1]) the target is 15\n",
            "when the context is tensor([18, 47, 56, 57, 58,  1, 15]) the target is 47\n",
            "when the context is tensor([18, 47, 56, 57, 58,  1, 15, 47]) the target is 58\n"
          ]
        }
      ]
    },
    {
      "cell_type": "code",
      "source": [
        "parallel_ct=4\n",
        "\n",
        "# Using the minrex from above , let's try to process the dataset\n",
        "# The logic is that the t'th token will output the t+1'th token\n",
        "# Divide the entire dataset into batches of block sizes\n",
        "# We will handle 4 input sequences having length equal to block size . Therefore, our batch is 4 rows deep and 8 columns wide (4,8)\n",
        "\n",
        "#Convert the entire training data to tensors of dimensions batch size\n",
        "sample=train_data[:32]\n",
        "sample.reshape(4,8)\n",
        "\n",
        "# The above reshaping would not work. Because for every block size(input of 8 char), our target is the 9th character\n",
        "# If we try to shape the data then the inputs and target would coincide. Because the 9th character is part of second block.\n",
        "# So, we have to reshape the data so that after every block, we leave a space for target\n",
        "\n",
        "\n",
        "#So, for a batch of shape (4,8), we will have a target of shape (4,1). That is, for every input there is a corresponding target\n",
        "sample=train_data[:32+4]\n",
        "\n",
        "# create 1 batch\n",
        "# Input of size block size\n",
        "# Output of size block size\n",
        "\n",
        "#initial\n",
        "'''\n",
        "start=0            tgt=1\n",
        "end=7              end=8\n",
        "\n",
        "start=9            tgt=10\n",
        "end=16             end=17\n",
        "\n",
        "start=18           tgt=19\n",
        "end=25             end=26\n",
        "\n",
        "start=27           tgt=28\n",
        "end=34             end=35\n",
        "'''\n",
        "\n",
        "# Figuring out the start is needed\n",
        "\n",
        "\n",
        "input=[]\n",
        "tgt=[]\n",
        "\n",
        "for i in range(parallel_ct):\n",
        "  start=i*(block_size+1)\n",
        "  end=start+(block_size)\n",
        "  input.append(sample[start:end])\n",
        "  tgt.append(sample[start+1:end+1])\n",
        "\n",
        "print(\"Input :\")\n",
        "print(input)\n",
        "print(\"Target :\")\n",
        "print(tgt)\n",
        "\n",
        "\n",
        "#print(sample[:block_size])\n",
        "#print(sample[block_size:block_size*2])\n",
        "\n",
        "\n",
        "\n",
        "\n",
        "'''\n",
        "for i in range(len(sample)):\n",
        "  input=sample[:block_size+1]\n",
        "  print('Input : ' ,input)\n",
        "  tgt=sample[:block_size+1+i]\n",
        "  print('Target :',tgt)\n",
        "'''"
      ],
      "metadata": {
        "colab": {
          "base_uri": "https://localhost:8080/",
          "height": 127
        },
        "id": "Q3k1Czf7LuA9",
        "outputId": "79ceb9a6-4203-47c6-c474-c88098acb3bf"
      },
      "execution_count": null,
      "outputs": [
        {
          "output_type": "stream",
          "name": "stdout",
          "text": [
            "Input :\n",
            "[tensor([18, 47, 56, 57, 58,  1, 15, 47]), tensor([47, 64, 43, 52, 10,  0, 14, 43]), tensor([53, 56, 43,  1, 61, 43,  1, 54]), tensor([53, 41, 43, 43, 42,  1, 39, 52])]\n",
            "Target :\n",
            "[tensor([47, 56, 57, 58,  1, 15, 47, 58]), tensor([64, 43, 52, 10,  0, 14, 43, 44]), tensor([56, 43,  1, 61, 43,  1, 54, 56]), tensor([41, 43, 43, 42,  1, 39, 52, 63])]\n"
          ]
        },
        {
          "output_type": "execute_result",
          "data": {
            "text/plain": [
              "\"\\nfor i in range(len(sample)):\\n  input=sample[:block_size+1]\\n  print('Input : ' ,input)\\n  tgt=sample[:block_size+1+i]\\n  print('Target :',tgt)\\n\""
            ],
            "application/vnd.google.colaboratory.intrinsic+json": {
              "type": "string"
            }
          },
          "metadata": {},
          "execution_count": 12
        }
      ]
    },
    {
      "cell_type": "markdown",
      "source": [
        "The sample used above is a contiguous piece of text. But, since each sequence is independent of the other within a batch we can create sequences randomly within a batch. Therefore, we will need four random numbers between 0 and `len(content) - block_size `. For example if the content length is 20 and block size is 4"
      ],
      "metadata": {
        "id": "YHiehVuLyfu3"
      }
    },
    {
      "cell_type": "markdown",
      "source": [
        "Generate inputs and targets for the model to learn"
      ],
      "metadata": {
        "id": "LSc0ExpdrwR0"
      }
    },
    {
      "cell_type": "code",
      "source": [
        "torch.manual_seed(1337)\n",
        "batch_size = 4 # how many independent sequences will we process in parallel?\n",
        "block_size = 8 # what is the maximum context length for predictions?\n",
        "n_embed=32\n",
        "\n",
        "def get_batch(split):\n",
        "    # generate a small batch of data of inputs x and targets y\n",
        "    data = train_data if split == 'train' else val_data\n",
        "    ix = torch.randint(len(data) - block_size, (batch_size,))\n",
        "    x = torch.stack([data[i:i+block_size] for i in ix])\n",
        "    y = torch.stack([data[i+1:i+block_size+1] for i in ix])\n",
        "    return x, y\n",
        "\n",
        "xb, yb = get_batch('train')\n",
        "print('inputs:')\n",
        "print(xb.shape)\n",
        "print(xb)\n",
        "print('targets:')\n",
        "print(yb.shape)\n",
        "print(yb)\n",
        "\n",
        "print('----')\n",
        "\n",
        "for b in range(batch_size): # batch dimension\n",
        "    for t in range(block_size): # time dimension\n",
        "        context = xb[b, :t+1]\n",
        "        target = yb[b,t]\n",
        "        print(f\"when input is {context.tolist()} the target: {target}\")\n"
      ],
      "metadata": {
        "colab": {
          "base_uri": "https://localhost:8080/"
        },
        "id": "MoCAttnG2AJs",
        "outputId": "53ea9db0-b98a-47eb-a445-dc47ecdb572b",
        "collapsed": true
      },
      "execution_count": null,
      "outputs": [
        {
          "output_type": "stream",
          "name": "stdout",
          "text": [
            "inputs:\n",
            "torch.Size([4, 8])\n",
            "tensor([[24, 43, 58,  5, 57,  1, 46, 43],\n",
            "        [44, 53, 56,  1, 58, 46, 39, 58],\n",
            "        [52, 58,  1, 58, 46, 39, 58,  1],\n",
            "        [25, 17, 27, 10,  0, 21,  1, 54]])\n",
            "targets:\n",
            "torch.Size([4, 8])\n",
            "tensor([[43, 58,  5, 57,  1, 46, 43, 39],\n",
            "        [53, 56,  1, 58, 46, 39, 58,  1],\n",
            "        [58,  1, 58, 46, 39, 58,  1, 46],\n",
            "        [17, 27, 10,  0, 21,  1, 54, 39]])\n",
            "----\n",
            "when input is [24] the target: 43\n",
            "when input is [24, 43] the target: 58\n",
            "when input is [24, 43, 58] the target: 5\n",
            "when input is [24, 43, 58, 5] the target: 57\n",
            "when input is [24, 43, 58, 5, 57] the target: 1\n",
            "when input is [24, 43, 58, 5, 57, 1] the target: 46\n",
            "when input is [24, 43, 58, 5, 57, 1, 46] the target: 43\n",
            "when input is [24, 43, 58, 5, 57, 1, 46, 43] the target: 39\n",
            "when input is [44] the target: 53\n",
            "when input is [44, 53] the target: 56\n",
            "when input is [44, 53, 56] the target: 1\n",
            "when input is [44, 53, 56, 1] the target: 58\n",
            "when input is [44, 53, 56, 1, 58] the target: 46\n",
            "when input is [44, 53, 56, 1, 58, 46] the target: 39\n",
            "when input is [44, 53, 56, 1, 58, 46, 39] the target: 58\n",
            "when input is [44, 53, 56, 1, 58, 46, 39, 58] the target: 1\n",
            "when input is [52] the target: 58\n",
            "when input is [52, 58] the target: 1\n",
            "when input is [52, 58, 1] the target: 58\n",
            "when input is [52, 58, 1, 58] the target: 46\n",
            "when input is [52, 58, 1, 58, 46] the target: 39\n",
            "when input is [52, 58, 1, 58, 46, 39] the target: 58\n",
            "when input is [52, 58, 1, 58, 46, 39, 58] the target: 1\n",
            "when input is [52, 58, 1, 58, 46, 39, 58, 1] the target: 46\n",
            "when input is [25] the target: 17\n",
            "when input is [25, 17] the target: 27\n",
            "when input is [25, 17, 27] the target: 10\n",
            "when input is [25, 17, 27, 10] the target: 0\n",
            "when input is [25, 17, 27, 10, 0] the target: 21\n",
            "when input is [25, 17, 27, 10, 0, 21] the target: 1\n",
            "when input is [25, 17, 27, 10, 0, 21, 1] the target: 54\n",
            "when input is [25, 17, 27, 10, 0, 21, 1, 54] the target: 39\n"
          ]
        }
      ]
    },
    {
      "cell_type": "code",
      "source": [
        "import torch\n",
        "import torch.nn as nn\n",
        "from torch.nn import functional as F\n",
        "\n",
        "torch.manual_seed(123)\n",
        "\n",
        "class BigramLanguageModel(nn.Module):\n",
        "  def __init__(self) -> None:\n",
        "      super().__init__()\n",
        "      self.token_embedding_table=nn.Embedding(vocab_size,n_embed)  #C = n_embed\n",
        "      self.position_embedding_table= nn.Embedding(block_size,n_embed) #T=block_size\n",
        "      self.lm_head =nn.Linear(n_embed,vocab_size)\n",
        "\n",
        "\n",
        "  def forward(self,idx,targets=None):\n",
        "      token_embeddings=self.token_embedding_table(idx)  # This returns as B*T*C\n",
        "      positional_embeddings=self.position_embedding_table(torch.arange(block_size))\n",
        "      x=token_embeddings+positional_embeddings\n",
        "      logits=self.lm_head(x)\n",
        "      if targets is None:\n",
        "        loss=None\n",
        "      else:\n",
        "        B,T,C=logits.shape\n",
        "        logits=logits.view(B*T,C)\n",
        "        targets=targets.view(B*T)\n",
        "        loss= F.cross_entropy(logits,targets)\n",
        "\n",
        "      return logits,loss\n",
        "\n",
        "  def generate(self,idx,max_new_tokens=100):\n",
        "\n",
        "    for _ in range(max_new_tokens):\n",
        "      logits,loss = self (idx) # refers to forward function\n",
        "      logits=logits[:,-1,:] #extract the last timestep\n",
        "      probs=F.softmax(logits,dim=-1)\n",
        "      idx_next=torch.multinomial(probs,num_samples=1)\n",
        "      idx=torch.cat((idx,idx_next),dim=1)\n",
        "\n",
        "    return idx\n",
        "\n",
        "\n",
        "m=BigramLanguageModel()\n",
        "\n",
        "before_weights = m.token_embedding_table.weight.clone().detach()\n",
        "\n",
        "logits,loss=m(xb,yb)\n",
        "out=decode(m.generate(idx=torch.zeros((1,1),dtype=torch.long),max_new_tokens=500).tolist()[0])\n",
        "\n",
        "after_weights = m.token_embedding_table.weight\n",
        "print('Are the two weights equal ?',torch.equal(before_weights,after_weights))   # True No update in model\n",
        "\n",
        "\n",
        "print('The output of the above token generator is \\n',out)\n",
        "print(f'\\n Representation of inputs after passing through the embedding table {logits} and the loss is {loss}')"
      ],
      "metadata": {
        "collapsed": true,
        "colab": {
          "base_uri": "https://localhost:8080/",
          "height": 365
        },
        "id": "zCQwGo_fBMje",
        "outputId": "f983987f-0b61-4ff7-a61a-3d3f95cc4a4e"
      },
      "execution_count": null,
      "outputs": [
        {
          "output_type": "error",
          "ename": "RuntimeError",
          "evalue": "The size of tensor a (2) must match the size of tensor b (8) at non-singleton dimension 1",
          "traceback": [
            "\u001b[0;31m---------------------------------------------------------------------------\u001b[0m",
            "\u001b[0;31mRuntimeError\u001b[0m                              Traceback (most recent call last)",
            "\u001b[0;32m/tmp/ipython-input-4032365916.py\u001b[0m in \u001b[0;36m<cell line: 0>\u001b[0;34m()\u001b[0m\n\u001b[1;32m     45\u001b[0m \u001b[0;34m\u001b[0m\u001b[0m\n\u001b[1;32m     46\u001b[0m \u001b[0mlogits\u001b[0m\u001b[0;34m,\u001b[0m\u001b[0mloss\u001b[0m\u001b[0;34m=\u001b[0m\u001b[0mm\u001b[0m\u001b[0;34m(\u001b[0m\u001b[0mxb\u001b[0m\u001b[0;34m,\u001b[0m\u001b[0myb\u001b[0m\u001b[0;34m)\u001b[0m\u001b[0;34m\u001b[0m\u001b[0;34m\u001b[0m\u001b[0m\n\u001b[0;32m---> 47\u001b[0;31m \u001b[0mout\u001b[0m\u001b[0;34m=\u001b[0m\u001b[0mdecode\u001b[0m\u001b[0;34m(\u001b[0m\u001b[0mm\u001b[0m\u001b[0;34m.\u001b[0m\u001b[0mgenerate\u001b[0m\u001b[0;34m(\u001b[0m\u001b[0midx\u001b[0m\u001b[0;34m=\u001b[0m\u001b[0mtorch\u001b[0m\u001b[0;34m.\u001b[0m\u001b[0mzeros\u001b[0m\u001b[0;34m(\u001b[0m\u001b[0;34m(\u001b[0m\u001b[0;36m1\u001b[0m\u001b[0;34m,\u001b[0m\u001b[0;36m1\u001b[0m\u001b[0;34m)\u001b[0m\u001b[0;34m,\u001b[0m\u001b[0mdtype\u001b[0m\u001b[0;34m=\u001b[0m\u001b[0mtorch\u001b[0m\u001b[0;34m.\u001b[0m\u001b[0mlong\u001b[0m\u001b[0;34m)\u001b[0m\u001b[0;34m,\u001b[0m\u001b[0mmax_new_tokens\u001b[0m\u001b[0;34m=\u001b[0m\u001b[0;36m500\u001b[0m\u001b[0;34m)\u001b[0m\u001b[0;34m.\u001b[0m\u001b[0mtolist\u001b[0m\u001b[0;34m(\u001b[0m\u001b[0;34m)\u001b[0m\u001b[0;34m[\u001b[0m\u001b[0;36m0\u001b[0m\u001b[0;34m]\u001b[0m\u001b[0;34m)\u001b[0m\u001b[0;34m\u001b[0m\u001b[0;34m\u001b[0m\u001b[0m\n\u001b[0m\u001b[1;32m     48\u001b[0m \u001b[0;34m\u001b[0m\u001b[0m\n\u001b[1;32m     49\u001b[0m \u001b[0mafter_weights\u001b[0m \u001b[0;34m=\u001b[0m \u001b[0mm\u001b[0m\u001b[0;34m.\u001b[0m\u001b[0mtoken_embedding_table\u001b[0m\u001b[0;34m.\u001b[0m\u001b[0mweight\u001b[0m\u001b[0;34m\u001b[0m\u001b[0;34m\u001b[0m\u001b[0m\n",
            "\u001b[0;32m/tmp/ipython-input-4032365916.py\u001b[0m in \u001b[0;36mgenerate\u001b[0;34m(self, idx, max_new_tokens)\u001b[0m\n\u001b[1;32m     31\u001b[0m \u001b[0;34m\u001b[0m\u001b[0m\n\u001b[1;32m     32\u001b[0m     \u001b[0;32mfor\u001b[0m \u001b[0m_\u001b[0m \u001b[0;32min\u001b[0m \u001b[0mrange\u001b[0m\u001b[0;34m(\u001b[0m\u001b[0mmax_new_tokens\u001b[0m\u001b[0;34m)\u001b[0m\u001b[0;34m:\u001b[0m\u001b[0;34m\u001b[0m\u001b[0;34m\u001b[0m\u001b[0m\n\u001b[0;32m---> 33\u001b[0;31m       \u001b[0mlogits\u001b[0m\u001b[0;34m,\u001b[0m\u001b[0mloss\u001b[0m \u001b[0;34m=\u001b[0m \u001b[0mself\u001b[0m \u001b[0;34m(\u001b[0m\u001b[0midx\u001b[0m\u001b[0;34m)\u001b[0m \u001b[0;31m# refers to forward function\u001b[0m\u001b[0;34m\u001b[0m\u001b[0;34m\u001b[0m\u001b[0m\n\u001b[0m\u001b[1;32m     34\u001b[0m       \u001b[0mlogits\u001b[0m\u001b[0;34m=\u001b[0m\u001b[0mlogits\u001b[0m\u001b[0;34m[\u001b[0m\u001b[0;34m:\u001b[0m\u001b[0;34m,\u001b[0m\u001b[0;34m-\u001b[0m\u001b[0;36m1\u001b[0m\u001b[0;34m,\u001b[0m\u001b[0;34m:\u001b[0m\u001b[0;34m]\u001b[0m \u001b[0;31m#extract the last timestep\u001b[0m\u001b[0;34m\u001b[0m\u001b[0;34m\u001b[0m\u001b[0m\n\u001b[1;32m     35\u001b[0m       \u001b[0mprobs\u001b[0m\u001b[0;34m=\u001b[0m\u001b[0mF\u001b[0m\u001b[0;34m.\u001b[0m\u001b[0msoftmax\u001b[0m\u001b[0;34m(\u001b[0m\u001b[0mlogits\u001b[0m\u001b[0;34m,\u001b[0m\u001b[0mdim\u001b[0m\u001b[0;34m=\u001b[0m\u001b[0;34m-\u001b[0m\u001b[0;36m1\u001b[0m\u001b[0;34m)\u001b[0m\u001b[0;34m\u001b[0m\u001b[0;34m\u001b[0m\u001b[0m\n",
            "\u001b[0;32m/usr/local/lib/python3.12/dist-packages/torch/nn/modules/module.py\u001b[0m in \u001b[0;36m_wrapped_call_impl\u001b[0;34m(self, *args, **kwargs)\u001b[0m\n\u001b[1;32m   1771\u001b[0m             \u001b[0;32mreturn\u001b[0m \u001b[0mself\u001b[0m\u001b[0;34m.\u001b[0m\u001b[0m_compiled_call_impl\u001b[0m\u001b[0;34m(\u001b[0m\u001b[0;34m*\u001b[0m\u001b[0margs\u001b[0m\u001b[0;34m,\u001b[0m \u001b[0;34m**\u001b[0m\u001b[0mkwargs\u001b[0m\u001b[0;34m)\u001b[0m  \u001b[0;31m# type: ignore[misc]\u001b[0m\u001b[0;34m\u001b[0m\u001b[0;34m\u001b[0m\u001b[0m\n\u001b[1;32m   1772\u001b[0m         \u001b[0;32melse\u001b[0m\u001b[0;34m:\u001b[0m\u001b[0;34m\u001b[0m\u001b[0;34m\u001b[0m\u001b[0m\n\u001b[0;32m-> 1773\u001b[0;31m             \u001b[0;32mreturn\u001b[0m \u001b[0mself\u001b[0m\u001b[0;34m.\u001b[0m\u001b[0m_call_impl\u001b[0m\u001b[0;34m(\u001b[0m\u001b[0;34m*\u001b[0m\u001b[0margs\u001b[0m\u001b[0;34m,\u001b[0m \u001b[0;34m**\u001b[0m\u001b[0mkwargs\u001b[0m\u001b[0;34m)\u001b[0m\u001b[0;34m\u001b[0m\u001b[0;34m\u001b[0m\u001b[0m\n\u001b[0m\u001b[1;32m   1774\u001b[0m \u001b[0;34m\u001b[0m\u001b[0m\n\u001b[1;32m   1775\u001b[0m     \u001b[0;31m# torchrec tests the code consistency with the following code\u001b[0m\u001b[0;34m\u001b[0m\u001b[0;34m\u001b[0m\u001b[0m\n",
            "\u001b[0;32m/usr/local/lib/python3.12/dist-packages/torch/nn/modules/module.py\u001b[0m in \u001b[0;36m_call_impl\u001b[0;34m(self, *args, **kwargs)\u001b[0m\n\u001b[1;32m   1782\u001b[0m                 \u001b[0;32mor\u001b[0m \u001b[0m_global_backward_pre_hooks\u001b[0m \u001b[0;32mor\u001b[0m \u001b[0m_global_backward_hooks\u001b[0m\u001b[0;34m\u001b[0m\u001b[0;34m\u001b[0m\u001b[0m\n\u001b[1;32m   1783\u001b[0m                 or _global_forward_hooks or _global_forward_pre_hooks):\n\u001b[0;32m-> 1784\u001b[0;31m             \u001b[0;32mreturn\u001b[0m \u001b[0mforward_call\u001b[0m\u001b[0;34m(\u001b[0m\u001b[0;34m*\u001b[0m\u001b[0margs\u001b[0m\u001b[0;34m,\u001b[0m \u001b[0;34m**\u001b[0m\u001b[0mkwargs\u001b[0m\u001b[0;34m)\u001b[0m\u001b[0;34m\u001b[0m\u001b[0;34m\u001b[0m\u001b[0m\n\u001b[0m\u001b[1;32m   1785\u001b[0m \u001b[0;34m\u001b[0m\u001b[0m\n\u001b[1;32m   1786\u001b[0m         \u001b[0mresult\u001b[0m \u001b[0;34m=\u001b[0m \u001b[0;32mNone\u001b[0m\u001b[0;34m\u001b[0m\u001b[0;34m\u001b[0m\u001b[0m\n",
            "\u001b[0;32m/tmp/ipython-input-4032365916.py\u001b[0m in \u001b[0;36mforward\u001b[0;34m(self, idx, targets)\u001b[0m\n\u001b[1;32m     16\u001b[0m       \u001b[0mtoken_embeddings\u001b[0m\u001b[0;34m=\u001b[0m\u001b[0mself\u001b[0m\u001b[0;34m.\u001b[0m\u001b[0mtoken_embedding_table\u001b[0m\u001b[0;34m(\u001b[0m\u001b[0midx\u001b[0m\u001b[0;34m)\u001b[0m  \u001b[0;31m# This returns as B*T*C\u001b[0m\u001b[0;34m\u001b[0m\u001b[0;34m\u001b[0m\u001b[0m\n\u001b[1;32m     17\u001b[0m       \u001b[0mpositional_embeddings\u001b[0m\u001b[0;34m=\u001b[0m\u001b[0mself\u001b[0m\u001b[0;34m.\u001b[0m\u001b[0mposition_embedding_table\u001b[0m\u001b[0;34m(\u001b[0m\u001b[0mtorch\u001b[0m\u001b[0;34m.\u001b[0m\u001b[0marange\u001b[0m\u001b[0;34m(\u001b[0m\u001b[0mblock_size\u001b[0m\u001b[0;34m)\u001b[0m\u001b[0;34m)\u001b[0m\u001b[0;34m\u001b[0m\u001b[0;34m\u001b[0m\u001b[0m\n\u001b[0;32m---> 18\u001b[0;31m       \u001b[0mx\u001b[0m\u001b[0;34m=\u001b[0m\u001b[0mtoken_embeddings\u001b[0m\u001b[0;34m+\u001b[0m\u001b[0mpositional_embeddings\u001b[0m\u001b[0;34m\u001b[0m\u001b[0;34m\u001b[0m\u001b[0m\n\u001b[0m\u001b[1;32m     19\u001b[0m       \u001b[0mlogits\u001b[0m\u001b[0;34m=\u001b[0m\u001b[0mself\u001b[0m\u001b[0;34m.\u001b[0m\u001b[0mlm_head\u001b[0m\u001b[0;34m(\u001b[0m\u001b[0mx\u001b[0m\u001b[0;34m)\u001b[0m\u001b[0;34m\u001b[0m\u001b[0;34m\u001b[0m\u001b[0m\n\u001b[1;32m     20\u001b[0m       \u001b[0;32mif\u001b[0m \u001b[0mtargets\u001b[0m \u001b[0;32mis\u001b[0m \u001b[0;32mNone\u001b[0m\u001b[0;34m:\u001b[0m\u001b[0;34m\u001b[0m\u001b[0;34m\u001b[0m\u001b[0m\n",
            "\u001b[0;31mRuntimeError\u001b[0m: The size of tensor a (2) must match the size of tensor b (8) at non-singleton dimension 1"
          ]
        }
      ]
    },
    {
      "cell_type": "code",
      "source": [
        "# Use optimizer to update the parameters\n",
        "\n",
        "batch_size=4\n",
        "grad_optim=torch.optim.AdamW(m.parameters(),lr=1e-3)\n",
        "xb, yb = get_batch('train')\n",
        "\n",
        "for _ in range(10000):\n",
        "  logits,loss=m(xb,yb)\n",
        "  grad_optim.zero_grad(set_to_none=True)\n",
        "  loss.backward()\n",
        "  grad_optim.step()\n",
        "\n",
        "print(loss.item())\n",
        "\n",
        "\n",
        "decode(m.generate(idx=torch.zeros((1,1),dtype=torch.long),max_new_tokens=500).tolist()[0])\n",
        "\n"
      ],
      "metadata": {
        "id": "KKHiAc3limBE",
        "collapsed": true,
        "colab": {
          "base_uri": "https://localhost:8080/",
          "height": 365
        },
        "outputId": "29863b3e-a183-4c95-b288-c3c341b20936"
      },
      "execution_count": null,
      "outputs": [
        {
          "output_type": "stream",
          "name": "stdout",
          "text": [
            "0.08666006475687027\n"
          ]
        },
        {
          "output_type": "error",
          "ename": "RuntimeError",
          "evalue": "The size of tensor a (2) must match the size of tensor b (8) at non-singleton dimension 1",
          "traceback": [
            "\u001b[0;31m---------------------------------------------------------------------------\u001b[0m",
            "\u001b[0;31mRuntimeError\u001b[0m                              Traceback (most recent call last)",
            "\u001b[0;32m/tmp/ipython-input-889605769.py\u001b[0m in \u001b[0;36m<cell line: 0>\u001b[0;34m()\u001b[0m\n\u001b[1;32m     14\u001b[0m \u001b[0;34m\u001b[0m\u001b[0m\n\u001b[1;32m     15\u001b[0m \u001b[0;34m\u001b[0m\u001b[0m\n\u001b[0;32m---> 16\u001b[0;31m \u001b[0mdecode\u001b[0m\u001b[0;34m(\u001b[0m\u001b[0mm\u001b[0m\u001b[0;34m.\u001b[0m\u001b[0mgenerate\u001b[0m\u001b[0;34m(\u001b[0m\u001b[0midx\u001b[0m\u001b[0;34m=\u001b[0m\u001b[0mtorch\u001b[0m\u001b[0;34m.\u001b[0m\u001b[0mzeros\u001b[0m\u001b[0;34m(\u001b[0m\u001b[0;34m(\u001b[0m\u001b[0;36m1\u001b[0m\u001b[0;34m,\u001b[0m\u001b[0;36m1\u001b[0m\u001b[0;34m)\u001b[0m\u001b[0;34m,\u001b[0m\u001b[0mdtype\u001b[0m\u001b[0;34m=\u001b[0m\u001b[0mtorch\u001b[0m\u001b[0;34m.\u001b[0m\u001b[0mlong\u001b[0m\u001b[0;34m)\u001b[0m\u001b[0;34m,\u001b[0m\u001b[0mmax_new_tokens\u001b[0m\u001b[0;34m=\u001b[0m\u001b[0;36m500\u001b[0m\u001b[0;34m)\u001b[0m\u001b[0;34m.\u001b[0m\u001b[0mtolist\u001b[0m\u001b[0;34m(\u001b[0m\u001b[0;34m)\u001b[0m\u001b[0;34m[\u001b[0m\u001b[0;36m0\u001b[0m\u001b[0;34m]\u001b[0m\u001b[0;34m)\u001b[0m\u001b[0;34m\u001b[0m\u001b[0;34m\u001b[0m\u001b[0m\n\u001b[0m\u001b[1;32m     17\u001b[0m \u001b[0;34m\u001b[0m\u001b[0m\n",
            "\u001b[0;32m/tmp/ipython-input-4032365916.py\u001b[0m in \u001b[0;36mgenerate\u001b[0;34m(self, idx, max_new_tokens)\u001b[0m\n\u001b[1;32m     31\u001b[0m \u001b[0;34m\u001b[0m\u001b[0m\n\u001b[1;32m     32\u001b[0m     \u001b[0;32mfor\u001b[0m \u001b[0m_\u001b[0m \u001b[0;32min\u001b[0m \u001b[0mrange\u001b[0m\u001b[0;34m(\u001b[0m\u001b[0mmax_new_tokens\u001b[0m\u001b[0;34m)\u001b[0m\u001b[0;34m:\u001b[0m\u001b[0;34m\u001b[0m\u001b[0;34m\u001b[0m\u001b[0m\n\u001b[0;32m---> 33\u001b[0;31m       \u001b[0mlogits\u001b[0m\u001b[0;34m,\u001b[0m\u001b[0mloss\u001b[0m \u001b[0;34m=\u001b[0m \u001b[0mself\u001b[0m \u001b[0;34m(\u001b[0m\u001b[0midx\u001b[0m\u001b[0;34m)\u001b[0m \u001b[0;31m# refers to forward function\u001b[0m\u001b[0;34m\u001b[0m\u001b[0;34m\u001b[0m\u001b[0m\n\u001b[0m\u001b[1;32m     34\u001b[0m       \u001b[0mlogits\u001b[0m\u001b[0;34m=\u001b[0m\u001b[0mlogits\u001b[0m\u001b[0;34m[\u001b[0m\u001b[0;34m:\u001b[0m\u001b[0;34m,\u001b[0m\u001b[0;34m-\u001b[0m\u001b[0;36m1\u001b[0m\u001b[0;34m,\u001b[0m\u001b[0;34m:\u001b[0m\u001b[0;34m]\u001b[0m \u001b[0;31m#extract the last timestep\u001b[0m\u001b[0;34m\u001b[0m\u001b[0;34m\u001b[0m\u001b[0m\n\u001b[1;32m     35\u001b[0m       \u001b[0mprobs\u001b[0m\u001b[0;34m=\u001b[0m\u001b[0mF\u001b[0m\u001b[0;34m.\u001b[0m\u001b[0msoftmax\u001b[0m\u001b[0;34m(\u001b[0m\u001b[0mlogits\u001b[0m\u001b[0;34m,\u001b[0m\u001b[0mdim\u001b[0m\u001b[0;34m=\u001b[0m\u001b[0;34m-\u001b[0m\u001b[0;36m1\u001b[0m\u001b[0;34m)\u001b[0m\u001b[0;34m\u001b[0m\u001b[0;34m\u001b[0m\u001b[0m\n",
            "\u001b[0;32m/usr/local/lib/python3.12/dist-packages/torch/nn/modules/module.py\u001b[0m in \u001b[0;36m_wrapped_call_impl\u001b[0;34m(self, *args, **kwargs)\u001b[0m\n\u001b[1;32m   1771\u001b[0m             \u001b[0;32mreturn\u001b[0m \u001b[0mself\u001b[0m\u001b[0;34m.\u001b[0m\u001b[0m_compiled_call_impl\u001b[0m\u001b[0;34m(\u001b[0m\u001b[0;34m*\u001b[0m\u001b[0margs\u001b[0m\u001b[0;34m,\u001b[0m \u001b[0;34m**\u001b[0m\u001b[0mkwargs\u001b[0m\u001b[0;34m)\u001b[0m  \u001b[0;31m# type: ignore[misc]\u001b[0m\u001b[0;34m\u001b[0m\u001b[0;34m\u001b[0m\u001b[0m\n\u001b[1;32m   1772\u001b[0m         \u001b[0;32melse\u001b[0m\u001b[0;34m:\u001b[0m\u001b[0;34m\u001b[0m\u001b[0;34m\u001b[0m\u001b[0m\n\u001b[0;32m-> 1773\u001b[0;31m             \u001b[0;32mreturn\u001b[0m \u001b[0mself\u001b[0m\u001b[0;34m.\u001b[0m\u001b[0m_call_impl\u001b[0m\u001b[0;34m(\u001b[0m\u001b[0;34m*\u001b[0m\u001b[0margs\u001b[0m\u001b[0;34m,\u001b[0m \u001b[0;34m**\u001b[0m\u001b[0mkwargs\u001b[0m\u001b[0;34m)\u001b[0m\u001b[0;34m\u001b[0m\u001b[0;34m\u001b[0m\u001b[0m\n\u001b[0m\u001b[1;32m   1774\u001b[0m \u001b[0;34m\u001b[0m\u001b[0m\n\u001b[1;32m   1775\u001b[0m     \u001b[0;31m# torchrec tests the code consistency with the following code\u001b[0m\u001b[0;34m\u001b[0m\u001b[0;34m\u001b[0m\u001b[0m\n",
            "\u001b[0;32m/usr/local/lib/python3.12/dist-packages/torch/nn/modules/module.py\u001b[0m in \u001b[0;36m_call_impl\u001b[0;34m(self, *args, **kwargs)\u001b[0m\n\u001b[1;32m   1782\u001b[0m                 \u001b[0;32mor\u001b[0m \u001b[0m_global_backward_pre_hooks\u001b[0m \u001b[0;32mor\u001b[0m \u001b[0m_global_backward_hooks\u001b[0m\u001b[0;34m\u001b[0m\u001b[0;34m\u001b[0m\u001b[0m\n\u001b[1;32m   1783\u001b[0m                 or _global_forward_hooks or _global_forward_pre_hooks):\n\u001b[0;32m-> 1784\u001b[0;31m             \u001b[0;32mreturn\u001b[0m \u001b[0mforward_call\u001b[0m\u001b[0;34m(\u001b[0m\u001b[0;34m*\u001b[0m\u001b[0margs\u001b[0m\u001b[0;34m,\u001b[0m \u001b[0;34m**\u001b[0m\u001b[0mkwargs\u001b[0m\u001b[0;34m)\u001b[0m\u001b[0;34m\u001b[0m\u001b[0;34m\u001b[0m\u001b[0m\n\u001b[0m\u001b[1;32m   1785\u001b[0m \u001b[0;34m\u001b[0m\u001b[0m\n\u001b[1;32m   1786\u001b[0m         \u001b[0mresult\u001b[0m \u001b[0;34m=\u001b[0m \u001b[0;32mNone\u001b[0m\u001b[0;34m\u001b[0m\u001b[0;34m\u001b[0m\u001b[0m\n",
            "\u001b[0;32m/tmp/ipython-input-4032365916.py\u001b[0m in \u001b[0;36mforward\u001b[0;34m(self, idx, targets)\u001b[0m\n\u001b[1;32m     16\u001b[0m       \u001b[0mtoken_embeddings\u001b[0m\u001b[0;34m=\u001b[0m\u001b[0mself\u001b[0m\u001b[0;34m.\u001b[0m\u001b[0mtoken_embedding_table\u001b[0m\u001b[0;34m(\u001b[0m\u001b[0midx\u001b[0m\u001b[0;34m)\u001b[0m  \u001b[0;31m# This returns as B*T*C\u001b[0m\u001b[0;34m\u001b[0m\u001b[0;34m\u001b[0m\u001b[0m\n\u001b[1;32m     17\u001b[0m       \u001b[0mpositional_embeddings\u001b[0m\u001b[0;34m=\u001b[0m\u001b[0mself\u001b[0m\u001b[0;34m.\u001b[0m\u001b[0mposition_embedding_table\u001b[0m\u001b[0;34m(\u001b[0m\u001b[0mtorch\u001b[0m\u001b[0;34m.\u001b[0m\u001b[0marange\u001b[0m\u001b[0;34m(\u001b[0m\u001b[0mblock_size\u001b[0m\u001b[0;34m)\u001b[0m\u001b[0;34m)\u001b[0m\u001b[0;34m\u001b[0m\u001b[0;34m\u001b[0m\u001b[0m\n\u001b[0;32m---> 18\u001b[0;31m       \u001b[0mx\u001b[0m\u001b[0;34m=\u001b[0m\u001b[0mtoken_embeddings\u001b[0m\u001b[0;34m+\u001b[0m\u001b[0mpositional_embeddings\u001b[0m\u001b[0;34m\u001b[0m\u001b[0;34m\u001b[0m\u001b[0m\n\u001b[0m\u001b[1;32m     19\u001b[0m       \u001b[0mlogits\u001b[0m\u001b[0;34m=\u001b[0m\u001b[0mself\u001b[0m\u001b[0;34m.\u001b[0m\u001b[0mlm_head\u001b[0m\u001b[0;34m(\u001b[0m\u001b[0mx\u001b[0m\u001b[0;34m)\u001b[0m\u001b[0;34m\u001b[0m\u001b[0;34m\u001b[0m\u001b[0m\n\u001b[1;32m     20\u001b[0m       \u001b[0;32mif\u001b[0m \u001b[0mtargets\u001b[0m \u001b[0;32mis\u001b[0m \u001b[0;32mNone\u001b[0m\u001b[0;34m:\u001b[0m\u001b[0;34m\u001b[0m\u001b[0;34m\u001b[0m\u001b[0m\n",
            "\u001b[0;31mRuntimeError\u001b[0m: The size of tensor a (2) must match the size of tensor b (8) at non-singleton dimension 1"
          ]
        }
      ]
    },
    {
      "cell_type": "code",
      "source": [
        "after_weights = m.token_embedding_table.weight\n"
      ],
      "metadata": {
        "id": "44ZHHL9tKR5N"
      },
      "execution_count": null,
      "outputs": []
    },
    {
      "cell_type": "markdown",
      "source": [
        "#Understanding matrix multiplication of tensors in pytorch\n",
        "\n",
        "\n",
        "---\n",
        "\n",
        "\n",
        "Matrix A: ( 2 * 3)\n",
        "\n",
        "1    2    5\n",
        "\n",
        "1    3    7\n",
        "\n",
        "\n",
        "Matrix B: (3 * 2)\n",
        "\n",
        "2   4\n",
        "\n",
        "1   1\n",
        "\n",
        "3   3\n",
        "\n",
        "\n",
        "Matrix C = A*B  2*2\n",
        "\n",
        "1x2 + 2x1 +5*3 = 19     1x4 + 2x1 + 5*3 = 21\n",
        "\n",
        "1x2 + 3x1=5     1x4+3x1=7\n"
      ],
      "metadata": {
        "id": "YXrWsGM0PfSN"
      }
    },
    {
      "cell_type": "markdown",
      "source": [
        "## The mathematical trick in self-attention"
      ],
      "metadata": {
        "id": "XinV8nmAnmKN"
      }
    },
    {
      "cell_type": "code",
      "source": [
        "# toy example illustrating how matrix multiplication can be used for a \"weighted aggregation\"\n",
        "torch.manual_seed(42)\n",
        "a = torch.tril(torch.ones(3, 3))\n",
        "a = a / torch.sum(a, 1, keepdim=True)\n",
        "b = torch.randint(0,10,(3,2)).float()\n",
        "c = a @ b\n",
        "print('a=')\n",
        "print(a)\n",
        "print('--')\n",
        "print('b=')\n",
        "print(b)\n",
        "print('--')\n",
        "print('c=')\n",
        "print(c)"
      ],
      "metadata": {
        "id": "tukiH-NbRBhA",
        "colab": {
          "base_uri": "https://localhost:8080/"
        },
        "outputId": "3dcfb9d5-3f20-4521-9221-b552f1729a59"
      },
      "execution_count": null,
      "outputs": [
        {
          "output_type": "stream",
          "name": "stdout",
          "text": [
            "a=\n",
            "tensor([[1.0000, 0.0000, 0.0000],\n",
            "        [0.5000, 0.5000, 0.0000],\n",
            "        [0.3333, 0.3333, 0.3333]])\n",
            "--\n",
            "b=\n",
            "tensor([[2., 7.],\n",
            "        [6., 4.],\n",
            "        [6., 5.]])\n",
            "--\n",
            "c=\n",
            "tensor([[2.0000, 7.0000],\n",
            "        [4.0000, 5.5000],\n",
            "        [4.6667, 5.3333]])\n"
          ]
        }
      ]
    },
    {
      "cell_type": "code",
      "source": [
        "# consider the following toy example:\n",
        "\n",
        "torch.manual_seed(1337)\n",
        "B,T,C = 4,8,2 # batch, time, channels\n",
        "x = torch.randn(B,T,C)\n",
        "x.shape"
      ],
      "metadata": {
        "id": "Hs_E24uRE8kr",
        "colab": {
          "base_uri": "https://localhost:8080/"
        },
        "outputId": "5923c091-3522-4a83-accc-bc8d690ebecf"
      },
      "execution_count": null,
      "outputs": [
        {
          "output_type": "execute_result",
          "data": {
            "text/plain": [
              "torch.Size([4, 8, 2])"
            ]
          },
          "metadata": {},
          "execution_count": 17
        }
      ]
    },
    {
      "cell_type": "code",
      "source": [
        "# We want x[b,t] = mean_{i<=t} x[b,i]\n",
        "xbow = torch.zeros((B,T,C))\n",
        "for b in range(B):\n",
        "    for t in range(T):\n",
        "        xprev = x[b,:t+1] # (t,C)\n",
        "        xbow[b,t] = torch.mean(xprev, 0)\n"
      ],
      "metadata": {
        "id": "86NuXX0fn7ps"
      },
      "execution_count": null,
      "outputs": []
    },
    {
      "cell_type": "code",
      "source": [
        "# version 2: using matrix multiply for a weighted aggregation\n",
        "wei = torch.tril(torch.ones(T, T))\n",
        "wei = wei / wei.sum(1, keepdim=True)\n",
        "xbow2 = wei @ x # (B, T, T) @ (B, T, C) ----> (B, T, C)\n",
        "torch.allclose(xbow, xbow2)"
      ],
      "metadata": {
        "id": "yhdOAd6-wXkZ",
        "colab": {
          "base_uri": "https://localhost:8080/"
        },
        "outputId": "1c7e2f77-2195-4fb7-e5ae-9a0800657343"
      },
      "execution_count": null,
      "outputs": [
        {
          "output_type": "execute_result",
          "data": {
            "text/plain": [
              "False"
            ]
          },
          "metadata": {},
          "execution_count": 19
        }
      ]
    },
    {
      "cell_type": "code",
      "source": [
        "# Understanding the mathematical trick - Aadish\n",
        "a = torch.tril(torch.ones(2,3))\n",
        "\n",
        "a = a.masked_fill(a==0,float('-inf'))\n",
        "a=F.softmax(a,dim=1)\n",
        "print(a)\n",
        "x.shape  # B,T,C 4,8,2    T,C 8,8\n",
        "\n"
      ],
      "metadata": {
        "id": "C6FEc57ZsAQp",
        "colab": {
          "base_uri": "https://localhost:8080/"
        },
        "outputId": "095b1778-429b-4d6e-ad67-eed88da57b19"
      },
      "execution_count": null,
      "outputs": [
        {
          "output_type": "stream",
          "name": "stdout",
          "text": [
            "tensor([[1.0000, 0.0000, 0.0000],\n",
            "        [0.5000, 0.5000, 0.0000]])\n"
          ]
        },
        {
          "output_type": "execute_result",
          "data": {
            "text/plain": [
              "torch.Size([4, 8, 2])"
            ]
          },
          "metadata": {},
          "execution_count": 20
        }
      ]
    },
    {
      "cell_type": "code",
      "source": [
        "# version 3: use Softmax\n",
        "tril = torch.tril(torch.ones(T, T))\n",
        "wei = torch.zeros((T,T))\n",
        "wei = wei.masked_fill(tril == 0, float('-inf'))\n",
        "wei = F.softmax(wei, dim=-1)\n",
        "print(wei)\n",
        "\n",
        "xbow3 = wei @ x\n",
        "torch.allclose(xbow, xbow3)\n"
      ],
      "metadata": {
        "id": "wOURrfG-ysoL",
        "colab": {
          "base_uri": "https://localhost:8080/"
        },
        "outputId": "205b9c71-1d5a-4780-d6ac-c31befe474a0"
      },
      "execution_count": null,
      "outputs": [
        {
          "output_type": "stream",
          "name": "stdout",
          "text": [
            "tensor([[1.0000, 0.0000, 0.0000, 0.0000, 0.0000, 0.0000, 0.0000, 0.0000],\n",
            "        [0.5000, 0.5000, 0.0000, 0.0000, 0.0000, 0.0000, 0.0000, 0.0000],\n",
            "        [0.3333, 0.3333, 0.3333, 0.0000, 0.0000, 0.0000, 0.0000, 0.0000],\n",
            "        [0.2500, 0.2500, 0.2500, 0.2500, 0.0000, 0.0000, 0.0000, 0.0000],\n",
            "        [0.2000, 0.2000, 0.2000, 0.2000, 0.2000, 0.0000, 0.0000, 0.0000],\n",
            "        [0.1667, 0.1667, 0.1667, 0.1667, 0.1667, 0.1667, 0.0000, 0.0000],\n",
            "        [0.1429, 0.1429, 0.1429, 0.1429, 0.1429, 0.1429, 0.1429, 0.0000],\n",
            "        [0.1250, 0.1250, 0.1250, 0.1250, 0.1250, 0.1250, 0.1250, 0.1250]])\n"
          ]
        },
        {
          "output_type": "execute_result",
          "data": {
            "text/plain": [
              "False"
            ]
          },
          "metadata": {},
          "execution_count": 21
        }
      ]
    },
    {
      "cell_type": "code",
      "source": [
        "# version 4: self-attention!\n",
        "torch.manual_seed(1337)\n",
        "B,T,C = 4,8,32 # batch, time, channels\n",
        "x = torch.randn(B,T,C)\n",
        "\n",
        "# let's see a single Head perform self-attention\n",
        "head_size = 16\n",
        "key = nn.Linear(C, head_size, bias=False)\n",
        "query = nn.Linear(C, head_size, bias=False)\n",
        "value = nn.Linear(C, head_size, bias=False)\n",
        "k = key(x)   # (B, T, 16)\n",
        "q = query(x) # (B, T, 16)\n",
        "wei =  q @ k.transpose(-2, -1) # (B, T, 16) @ (B, 16, T) ---> (B, T, T)\n",
        "\n",
        "tril = torch.tril(torch.ones(T, T))\n",
        "#wei = torch.zeros((T,T))\n",
        "wei = wei.masked_fill(tril == 0, float('-inf'))\n",
        "wei = F.softmax(wei, dim=-1)\n",
        "\n",
        "v = value(x)\n",
        "out = wei @ v\n",
        "#out = wei @ x\n",
        "\n",
        "out.shape"
      ],
      "metadata": {
        "id": "EDarxEWIRMKq",
        "colab": {
          "base_uri": "https://localhost:8080/"
        },
        "outputId": "d39a0af4-a8ce-4bd7-a145-a1b9da4e3a2a"
      },
      "execution_count": null,
      "outputs": [
        {
          "output_type": "execute_result",
          "data": {
            "text/plain": [
              "torch.Size([4, 8, 16])"
            ]
          },
          "metadata": {},
          "execution_count": 22
        }
      ]
    },
    {
      "cell_type": "code",
      "source": [
        "# Writing self-attention block\n",
        "\n",
        "torch.manual_seed(1337)\n",
        "batch_size = 4\n",
        "block_size = 8\n",
        "embed_size = 32\n",
        "\n",
        "# tokenize\n",
        "\n",
        "x,y=get_batch('train')  # batch, block ## block = Time dimension\n",
        "\n",
        "\n",
        "head_size=16  # attention head . Positions that it will attend to .\n",
        "\n",
        "\n",
        "\n",
        "embed=nn.Embedding(vocab_size,embed_size)\n",
        "\n",
        "\n",
        "# Pass the input through the embeddings layer\n",
        "\n",
        "x=embed(x)\n",
        "\n",
        "# Create copies of input as query , key and vector\n",
        "\n",
        "query=nn.Linear(embed_size,head_size,bias=False)\n",
        "key=nn.Linear(embed_size,head_size,bias=False)\n",
        "value=nn.Linear(embed_size,head_size,bias=False)\n",
        "\n",
        "q=query(x)\n",
        "k=key(x)\n",
        "v=value(x)\n",
        "\n",
        "#print(k.shape)  # B,T,head_size\n",
        "\n",
        "# weights are the affinities between key and vector. Wherever the number is high\n",
        "#the magnitude of weights reflect that.\n",
        "\n",
        "wei=q @ k.transpose(-2,-1) #B,T,T\n",
        "\n",
        "\n",
        "print(wei[0])\n",
        "\n",
        "#print(wei.shape)  #B,T,T\n",
        "\n",
        "tril=torch.tril(torch.ones(block_size,block_size))  #T * T\n",
        "wei=wei.masked_fill(tril==0,float('-inf'))\n",
        "\n",
        "print(wei[0])\n",
        "\n",
        "wei=F.softmax(wei,dim=-1)\n",
        "\n",
        "print(wei[0])\n",
        "\n",
        "out= wei @ v\n",
        "print(wei.shape)\n",
        "print(v.shape)\n",
        "print(out.shape)\n"
      ],
      "metadata": {
        "id": "UNkpZiOgLp46",
        "colab": {
          "base_uri": "https://localhost:8080/"
        },
        "outputId": "4498e966-989c-4ade-8008-a072052e5e6e"
      },
      "execution_count": null,
      "outputs": [
        {
          "output_type": "stream",
          "name": "stdout",
          "text": [
            "tensor([[ 0.4034, -1.5845,  1.7946, -4.2395,  2.2851,  2.8202,  1.1968, -1.5845],\n",
            "        [-0.2297,  2.1917,  2.4667, -0.2195, -0.3685, -1.0612, -0.5106,  2.1917],\n",
            "        [ 0.2771,  0.3480, -0.3270,  0.4888, -0.6640, -0.7369, -0.1807,  0.3480],\n",
            "        [ 2.4890,  0.1666,  1.3966, -1.3715,  2.3623,  1.1069, -0.3193,  0.1666],\n",
            "        [ 0.2522,  0.4723, -0.4703,  0.5955,  0.6543,  0.2061,  0.8850,  0.4723],\n",
            "        [ 0.7495, -2.4608, -0.6745, -1.9665, -0.5707,  1.0563,  0.4899, -2.4608],\n",
            "        [-2.1033,  0.6029, -1.6932,  2.1043,  0.1394, -1.4633, -0.2959,  0.6029],\n",
            "        [-0.2297,  2.1917,  2.4667, -0.2195, -0.3685, -1.0612, -0.5106,  2.1917]],\n",
            "       grad_fn=<SelectBackward0>)\n",
            "tensor([[ 0.4034,    -inf,    -inf,    -inf,    -inf,    -inf,    -inf,    -inf],\n",
            "        [-0.2297,  2.1917,    -inf,    -inf,    -inf,    -inf,    -inf,    -inf],\n",
            "        [ 0.2771,  0.3480, -0.3270,    -inf,    -inf,    -inf,    -inf,    -inf],\n",
            "        [ 2.4890,  0.1666,  1.3966, -1.3715,    -inf,    -inf,    -inf,    -inf],\n",
            "        [ 0.2522,  0.4723, -0.4703,  0.5955,  0.6543,    -inf,    -inf,    -inf],\n",
            "        [ 0.7495, -2.4608, -0.6745, -1.9665, -0.5707,  1.0563,    -inf,    -inf],\n",
            "        [-2.1033,  0.6029, -1.6932,  2.1043,  0.1394, -1.4633, -0.2959,    -inf],\n",
            "        [-0.2297,  2.1917,  2.4667, -0.2195, -0.3685, -1.0612, -0.5106,  2.1917]],\n",
            "       grad_fn=<SelectBackward0>)\n",
            "tensor([[1.0000, 0.0000, 0.0000, 0.0000, 0.0000, 0.0000, 0.0000, 0.0000],\n",
            "        [0.0816, 0.9184, 0.0000, 0.0000, 0.0000, 0.0000, 0.0000, 0.0000],\n",
            "        [0.3817, 0.4097, 0.2086, 0.0000, 0.0000, 0.0000, 0.0000, 0.0000],\n",
            "        [0.6875, 0.0674, 0.2306, 0.0145, 0.0000, 0.0000, 0.0000, 0.0000],\n",
            "        [0.1774, 0.2211, 0.0861, 0.2501, 0.2652, 0.0000, 0.0000, 0.0000],\n",
            "        [0.3363, 0.0136, 0.0810, 0.0222, 0.0898, 0.4571, 0.0000, 0.0000],\n",
            "        [0.0098, 0.1467, 0.0148, 0.6582, 0.0923, 0.0186, 0.0597, 0.0000],\n",
            "        [0.0241, 0.2719, 0.3579, 0.0244, 0.0210, 0.0105, 0.0182, 0.2719]],\n",
            "       grad_fn=<SelectBackward0>)\n",
            "torch.Size([4, 8, 8])\n",
            "torch.Size([4, 8, 16])\n",
            "torch.Size([4, 8, 16])\n"
          ]
        }
      ]
    },
    {
      "cell_type": "markdown",
      "source": [
        "Notes:\n",
        "- Attention is a **communication mechanism**. Can be seen as nodes in a directed graph looking at each other and aggregating information with a weighted sum from all nodes that point to them, with data-dependent weights.\n",
        "- There is no notion of space. Attention simply acts over a set of vectors. This is why we need to positionally encode tokens.\n",
        "- Each example across batch dimension is of course processed completely independently and never \"talk\" to each other\n",
        "- In an \"encoder\" attention block just delete the single line that does masking with `tril`, allowing all tokens to communicate. This block here is called a \"decoder\" attention block because it has triangular masking, and is usually used in autoregressive settings, like language modeling.\n",
        "- \"self-attention\" just means that the keys and values are produced from the same source as queries. In \"cross-attention\", the queries still get produced from x, but the keys and values come from some other, external source (e.g. an encoder module)\n",
        "- \"Scaled\" attention additional divides `wei` by 1/sqrt(head_size). This makes it so when input Q,K are unit variance, wei will be unit variance too and Softmax will stay diffuse and not saturate too much. Illustration below"
      ],
      "metadata": {
        "id": "M5CvobiQ0pLr"
      }
    },
    {
      "cell_type": "code",
      "source": [
        "k = torch.randn(B,T,head_size)\n",
        "q = torch.randn(B,T,head_size)\n",
        "wei = q @ k.transpose(-2, -1) * head_size**-0.5"
      ],
      "metadata": {
        "id": "4SNbLq5z3oBw"
      },
      "execution_count": null,
      "outputs": []
    },
    {
      "cell_type": "code",
      "source": [
        "k.var()"
      ],
      "metadata": {
        "id": "Nl6I9n9IRTSo"
      },
      "execution_count": null,
      "outputs": []
    },
    {
      "cell_type": "code",
      "source": [
        "q.var()"
      ],
      "metadata": {
        "id": "T1tQx7oeRvtc"
      },
      "execution_count": null,
      "outputs": []
    },
    {
      "cell_type": "code",
      "source": [
        "wei.var()"
      ],
      "metadata": {
        "id": "MLb_odHU3iKM"
      },
      "execution_count": null,
      "outputs": []
    },
    {
      "cell_type": "code",
      "source": [
        "torch.softmax(torch.tensor([0.1, -0.2, 0.3, -0.2, 0.5]), dim=-1)"
      ],
      "metadata": {
        "id": "JB82yzt44REI"
      },
      "execution_count": null,
      "outputs": []
    },
    {
      "cell_type": "code",
      "source": [
        "torch.softmax(torch.tensor([0.1, -0.2, 0.3, -0.2, 0.5])*8, dim=-1) # gets too peaky, converges to one-hot"
      ],
      "metadata": {
        "id": "Mpt8569BB9_f"
      },
      "execution_count": null,
      "outputs": []
    },
    {
      "cell_type": "code",
      "source": [
        "class LayerNorm1d: # (used to be BatchNorm1d)\n",
        "\n",
        "  def __init__(self, dim, eps=1e-5, momentum=0.1):\n",
        "    self.eps = eps\n",
        "    self.gamma = torch.ones(dim)\n",
        "    self.beta = torch.zeros(dim)\n",
        "\n",
        "  def __call__(self, x):\n",
        "    # calculate the forward pass\n",
        "    xmean = x.mean(1, keepdim=True) # batch mean\n",
        "    xvar = x.var(1, keepdim=True) # batch variance\n",
        "    xhat = (x - xmean) / torch.sqrt(xvar + self.eps) # normalize to unit variance\n",
        "    self.out = self.gamma * xhat + self.beta\n",
        "    return self.out\n",
        "\n",
        "  def parameters(self):\n",
        "    return [self.gamma, self.beta]\n",
        "\n",
        "torch.manual_seed(1337)\n",
        "module = LayerNorm1d(100)\n",
        "x = torch.randn(32, 100) # batch size 32 of 100-dimensional vectors\n",
        "x = module(x)\n",
        "x.shape"
      ],
      "metadata": {
        "id": "2Num7sX9CKOH"
      },
      "execution_count": null,
      "outputs": []
    },
    {
      "cell_type": "code",
      "source": [
        "module.parameters()"
      ],
      "metadata": {
        "id": "GKNPsEL-4KF5"
      },
      "execution_count": null,
      "outputs": []
    },
    {
      "cell_type": "code",
      "source": [
        "# Implement LayerNorm - Aadish version\n",
        "\n",
        "class GPTLayerNorm():\n",
        "  def __init__(self,dim,eps=1e-5,momentum=0.1):\n",
        "    self.eps=eps\n",
        "    self.gamma=torch.ones(dim)\n",
        "    self.beta=torch.zeros(dim)\n",
        "  def __call__(self,dim,x):\n",
        "    x_mean=x.mean(1,keepdim=True)\n",
        "    x_var=x.var(1,keepdim=True)\n",
        "    x_hat=self.gamma*((x-x_mean)/torch.sqrt(x_var+self.eps))+self.beta\n",
        "    return x_hat\n",
        "  def parameters(self):\n",
        "    return ([self.gamma,self.beta])\n",
        "\n",
        "\n",
        "n=GPTLayerNorm(100)\n",
        "x=torch.randn(32,100)\n",
        "y=n(100,x)\n",
        "\n",
        "y[0,:].mean(), y[0,:].std()\n",
        "\n"
      ],
      "metadata": {
        "id": "ymjBLLja3O3J",
        "colab": {
          "base_uri": "https://localhost:8080/"
        },
        "outputId": "daaae626-8b95-42d4-b414-08aafb6ae6fc"
      },
      "execution_count": null,
      "outputs": [
        {
          "output_type": "execute_result",
          "data": {
            "text/plain": [
              "(tensor(1.1921e-09), tensor(1.0000))"
            ]
          },
          "metadata": {},
          "execution_count": 31
        }
      ]
    },
    {
      "cell_type": "code",
      "source": [
        "x[:,0].mean(), x[:,0].std() # mean,std of one feature across all batch inputs"
      ],
      "metadata": {
        "colab": {
          "base_uri": "https://localhost:8080/"
        },
        "id": "633T2cmnW1uk",
        "outputId": "838d2d5b-7a09-4831-d42f-7e8bc5aa3e06"
      },
      "execution_count": null,
      "outputs": [
        {
          "output_type": "execute_result",
          "data": {
            "text/plain": [
              "(tensor(0.1469), tensor(0.8803))"
            ]
          },
          "metadata": {},
          "execution_count": 25
        }
      ]
    },
    {
      "cell_type": "code",
      "source": [
        "x[0,:].mean(), x[0,:].std() # mean,std of a single input from the batch, of its features"
      ],
      "metadata": {
        "colab": {
          "base_uri": "https://localhost:8080/"
        },
        "id": "LN9cK9BoXCYb",
        "outputId": "571b01d7-5f68-40d7-dce7-2da9440b2e02"
      },
      "execution_count": null,
      "outputs": [
        {
          "output_type": "execute_result",
          "data": {
            "text/plain": [
              "(tensor(-9.5367e-09), tensor(1.0000))"
            ]
          },
          "metadata": {},
          "execution_count": 26
        }
      ]
    },
    {
      "cell_type": "code",
      "source": [
        "# French to English translation example:\n",
        "\n",
        "# <--------- ENCODE ------------------><--------------- DECODE ----------------->\n",
        "# les réseaux de neurones sont géniaux! <START> neural networks are awesome!<END>\n",
        "\n"
      ],
      "metadata": {
        "id": "dRJH6wM_XFfU"
      },
      "execution_count": null,
      "outputs": []
    },
    {
      "cell_type": "markdown",
      "source": [
        "### Full finished code, for reference\n",
        "\n",
        "You may want to refer directly to the git repo instead though."
      ],
      "metadata": {
        "id": "ZcvKeBXoZFOY"
      }
    },
    {
      "cell_type": "code",
      "source": [
        "import torch\n",
        "import torch.nn as nn\n",
        "from torch.nn import functional as F\n",
        "\n",
        "# hyperparameters\n",
        "batch_size = 16 # how many independent sequences will we process in parallel?\n",
        "block_size = 32 # what is the maximum context length for predictions?\n",
        "max_iters = 5000\n",
        "eval_interval = 100\n",
        "learning_rate = 1e-3\n",
        "device = 'cuda' if torch.cuda.is_available() else 'cpu'\n",
        "eval_iters = 200\n",
        "n_embd = 64\n",
        "n_head = 4\n",
        "n_layer = 4\n",
        "dropout = 0.0\n",
        "# ------------\n",
        "\n",
        "torch.manual_seed(1337)\n",
        "\n",
        "# wget https://raw.githubusercontent.com/karpathy/char-rnn/master/data/tinyshakespeare/input.txt\n",
        "with open('input.txt', 'r', encoding='utf-8') as f:\n",
        "    text = f.read()\n",
        "\n",
        "# here are all the unique characters that occur in this text\n",
        "chars = sorted(list(set(text)))\n",
        "vocab_size = len(chars)\n",
        "# create a mapping from characters to integers\n",
        "stoi = { ch:i for i,ch in enumerate(chars) }\n",
        "itos = { i:ch for i,ch in enumerate(chars) }\n",
        "encode = lambda s: [stoi[c] for c in s] # encoder: take a string, output a list of integers\n",
        "decode = lambda l: ''.join([itos[i] for i in l]) # decoder: take a list of integers, output a string\n",
        "\n",
        "# Train and test splits\n",
        "data = torch.tensor(encode(text), dtype=torch.long)\n",
        "n = int(0.9*len(data)) # first 90% will be train, rest val\n",
        "train_data = data[:n]\n",
        "val_data = data[n:]\n",
        "\n",
        "# data loading\n",
        "def get_batch(split):\n",
        "    # generate a small batch of data of inputs x and targets y\n",
        "    data = train_data if split == 'train' else val_data\n",
        "    ix = torch.randint(len(data) - block_size, (batch_size,))\n",
        "    x = torch.stack([data[i:i+block_size] for i in ix])\n",
        "    y = torch.stack([data[i+1:i+block_size+1] for i in ix])\n",
        "    x, y = x.to(device), y.to(device)\n",
        "    return x, y\n",
        "\n",
        "@torch.no_grad()\n",
        "def estimate_loss():\n",
        "    out = {}\n",
        "    model.eval()\n",
        "    for split in ['train', 'val']:\n",
        "        losses = torch.zeros(eval_iters)\n",
        "        for k in range(eval_iters):\n",
        "            X, Y = get_batch(split)\n",
        "            logits, loss = model(X, Y)\n",
        "            losses[k] = loss.item()\n",
        "        out[split] = losses.mean()\n",
        "    model.train()\n",
        "    return out\n",
        "\n",
        "class Head(nn.Module):\n",
        "    \"\"\" one head of self-attention \"\"\"\n",
        "\n",
        "    def __init__(self, head_size):\n",
        "        super().__init__()\n",
        "        self.key = nn.Linear(n_embd, head_size, bias=False)\n",
        "        self.query = nn.Linear(n_embd, head_size, bias=False)\n",
        "        self.value = nn.Linear(n_embd, head_size, bias=False)\n",
        "        self.register_buffer('tril', torch.tril(torch.ones(block_size, block_size)))\n",
        "\n",
        "        self.dropout = nn.Dropout(dropout)\n",
        "\n",
        "    def forward(self, x):\n",
        "        B,T,C = x.shape\n",
        "        k = self.key(x)   # (B,T,C)\n",
        "        q = self.query(x) # (B,T,C)\n",
        "        # compute attention scores (\"affinities\")\n",
        "        wei = q @ k.transpose(-2,-1) * C**-0.5 # (B, T, C) @ (B, C, T) -> (B, T, T)\n",
        "        wei = wei.masked_fill(self.tril[:T, :T] == 0, float('-inf')) # (B, T, T)\n",
        "        wei = F.softmax(wei, dim=-1) # (B, T, T)\n",
        "        wei = self.dropout(wei)\n",
        "        # perform the weighted aggregation of the values\n",
        "        v = self.value(x) # (B,T,C)\n",
        "        out = wei @ v # (B, T, T) @ (B, T, C) -> (B, T, C)\n",
        "        return out\n",
        "\n",
        "class MultiHeadAttention(nn.Module):\n",
        "    \"\"\" multiple heads of self-attention in parallel \"\"\"\n",
        "\n",
        "    def __init__(self, num_heads, head_size):\n",
        "        super().__init__()\n",
        "        self.heads = nn.ModuleList([Head(head_size) for _ in range(num_heads)])\n",
        "        self.proj = nn.Linear(n_embd, n_embd)\n",
        "        self.dropout = nn.Dropout(dropout)\n",
        "\n",
        "    def forward(self, x):\n",
        "        out = torch.cat([h(x) for h in self.heads], dim=-1)\n",
        "        out = self.dropout(self.proj(out))\n",
        "        return out\n",
        "\n",
        "class FeedFoward(nn.Module):\n",
        "    \"\"\" a simple linear layer followed by a non-linearity \"\"\"\n",
        "\n",
        "    def __init__(self, n_embd):\n",
        "        super().__init__()\n",
        "        self.net = nn.Sequential(\n",
        "            nn.Linear(n_embd, 4 * n_embd),\n",
        "            nn.ReLU(),\n",
        "            nn.Linear(4 * n_embd, n_embd),\n",
        "            nn.Dropout(dropout),\n",
        "        )\n",
        "\n",
        "    def forward(self, x):\n",
        "        return self.net(x)\n",
        "\n",
        "class Block(nn.Module):\n",
        "    \"\"\" Transformer block: communication followed by computation \"\"\"\n",
        "\n",
        "    def __init__(self, n_embd, n_head):\n",
        "        # n_embd: embedding dimension, n_head: the number of heads we'd like\n",
        "        super().__init__()\n",
        "        head_size = n_embd // n_head\n",
        "        self.sa = MultiHeadAttention(n_head, head_size)\n",
        "        self.ffwd = FeedFoward(n_embd)\n",
        "        self.ln1 = nn.LayerNorm(n_embd)\n",
        "        self.ln2 = nn.LayerNorm(n_embd)\n",
        "\n",
        "    def forward(self, x):\n",
        "        x = x + self.sa(self.ln1(x))\n",
        "        x = x + self.ffwd(self.ln2(x))\n",
        "        return x\n",
        "\n",
        "# super simple bigram model\n",
        "class BigramLanguageModel(nn.Module):\n",
        "\n",
        "    def __init__(self):\n",
        "        super().__init__()\n",
        "        # each token directly reads off the logits for the next token from a lookup table\n",
        "        self.token_embedding_table = nn.Embedding(vocab_size, n_embd)\n",
        "        self.position_embedding_table = nn.Embedding(block_size, n_embd)\n",
        "        self.blocks = nn.Sequential(*[Block(n_embd, n_head=n_head) for _ in range(n_layer)])\n",
        "        self.ln_f = nn.LayerNorm(n_embd) # final layer norm\n",
        "        self.lm_head = nn.Linear(n_embd, vocab_size)\n",
        "\n",
        "    def forward(self, idx, targets=None):\n",
        "        B, T = idx.shape\n",
        "\n",
        "        # idx and targets are both (B,T) tensor of integers\n",
        "        tok_emb = self.token_embedding_table(idx) # (B,T,C)\n",
        "        pos_emb = self.position_embedding_table(torch.arange(T, device=device)) # (T,C)\n",
        "        x = tok_emb + pos_emb # (B,T,C)\n",
        "        x = self.blocks(x) # (B,T,C)\n",
        "        x = self.ln_f(x) # (B,T,C)\n",
        "        logits = self.lm_head(x) # (B,T,vocab_size)\n",
        "\n",
        "        if targets is None:\n",
        "            loss = None\n",
        "        else:\n",
        "            B, T, C = logits.shape\n",
        "            logits = logits.view(B*T, C)\n",
        "            targets = targets.view(B*T)\n",
        "            loss = F.cross_entropy(logits, targets)\n",
        "\n",
        "        return logits, loss\n",
        "\n",
        "    def generate(self, idx, max_new_tokens):\n",
        "        # idx is (B, T) array of indices in the current context\n",
        "        for _ in range(max_new_tokens):\n",
        "            # crop idx to the last block_size tokens\n",
        "            idx_cond = idx[:, -block_size:]\n",
        "            # get the predictions\n",
        "            logits, loss = self(idx_cond)\n",
        "            # focus only on the last time step\n",
        "            logits = logits[:, -1, :] # becomes (B, C)\n",
        "            # apply softmax to get probabilities\n",
        "            probs = F.softmax(logits, dim=-1) # (B, C)\n",
        "            # sample from the distribution\n",
        "            idx_next = torch.multinomial(probs, num_samples=1) # (B, 1)\n",
        "            # append sampled index to the running sequence\n",
        "            idx = torch.cat((idx, idx_next), dim=1) # (B, T+1)\n",
        "        return idx\n",
        "\n",
        "model = BigramLanguageModel()\n",
        "m = model.to(device)\n",
        "# print the number of parameters in the model\n",
        "print(sum(p.numel() for p in m.parameters())/1e6, 'M parameters')\n",
        "\n",
        "# create a PyTorch optimizer\n",
        "optimizer = torch.optim.AdamW(model.parameters(), lr=learning_rate)\n",
        "\n",
        "for iter in range(max_iters):\n",
        "\n",
        "    # every once in a while evaluate the loss on train and val sets\n",
        "    if iter % eval_interval == 0 or iter == max_iters - 1:\n",
        "        losses = estimate_loss()\n",
        "        print(f\"step {iter}: train loss {losses['train']:.4f}, val loss {losses['val']:.4f}\")\n",
        "\n",
        "    # sample a batch of data\n",
        "    xb, yb = get_batch('train')\n",
        "\n",
        "    # evaluate the loss\n",
        "    logits, loss = model(xb, yb)\n",
        "    optimizer.zero_grad(set_to_none=True)\n",
        "    loss.backward()\n",
        "    optimizer.step()\n",
        "\n",
        "# generate from the model\n",
        "context = torch.zeros((1, 1), dtype=torch.long, device=device)\n",
        "print(decode(m.generate(context, max_new_tokens=2000)[0].tolist()))\n"
      ],
      "metadata": {
        "colab": {
          "base_uri": "https://localhost:8080/"
        },
        "id": "hoelkOrFY8bN",
        "outputId": "0c65a9be-4f28-4d17-e4f5-377e02aa9744"
      },
      "execution_count": null,
      "outputs": [
        {
          "output_type": "stream",
          "name": "stdout",
          "text": [
            "0.209729 M parameters\n",
            "step 0: train loss 4.4116, val loss 4.4022\n",
            "step 100: train loss 2.6568, val loss 2.6670\n",
            "step 200: train loss 2.5090, val loss 2.5058\n",
            "step 300: train loss 2.4194, val loss 2.4334\n",
            "step 400: train loss 2.3501, val loss 2.3568\n",
            "step 500: train loss 2.2963, val loss 2.3129\n",
            "step 600: train loss 2.2410, val loss 2.2501\n",
            "step 700: train loss 2.2057, val loss 2.2191\n",
            "step 800: train loss 2.1633, val loss 2.1860\n",
            "step 900: train loss 2.1242, val loss 2.1498\n",
            "step 1000: train loss 2.1027, val loss 2.1298\n",
            "step 1100: train loss 2.0692, val loss 2.1183\n",
            "step 1200: train loss 2.0386, val loss 2.0797\n",
            "step 1300: train loss 2.0276, val loss 2.0652\n",
            "step 1400: train loss 1.9925, val loss 2.0370\n",
            "step 1500: train loss 1.9702, val loss 2.0302\n",
            "step 1600: train loss 1.9645, val loss 2.0487\n",
            "step 1700: train loss 1.9421, val loss 2.0143\n",
            "step 1800: train loss 1.9091, val loss 1.9953\n",
            "step 1900: train loss 1.9085, val loss 1.9874\n",
            "step 2000: train loss 1.8861, val loss 1.9957\n",
            "step 2100: train loss 1.8731, val loss 1.9765\n",
            "step 2200: train loss 1.8607, val loss 1.9619\n",
            "step 2300: train loss 1.8552, val loss 1.9501\n",
            "step 2400: train loss 1.8410, val loss 1.9419\n",
            "step 2500: train loss 1.8160, val loss 1.9414\n",
            "step 2600: train loss 1.8272, val loss 1.9405\n",
            "step 2700: train loss 1.8118, val loss 1.9348\n",
            "step 2800: train loss 1.8041, val loss 1.9228\n",
            "step 2900: train loss 1.8056, val loss 1.9301\n",
            "step 3000: train loss 1.8001, val loss 1.9244\n",
            "step 3100: train loss 1.7672, val loss 1.9184\n",
            "step 3200: train loss 1.7548, val loss 1.9108\n",
            "step 3300: train loss 1.7586, val loss 1.9065\n",
            "step 3400: train loss 1.7571, val loss 1.8980\n",
            "step 3500: train loss 1.7399, val loss 1.8957\n",
            "step 3600: train loss 1.7283, val loss 1.8927\n",
            "step 3700: train loss 1.7292, val loss 1.8838\n",
            "step 3800: train loss 1.7209, val loss 1.8892\n",
            "step 3900: train loss 1.7222, val loss 1.8685\n",
            "step 4000: train loss 1.7162, val loss 1.8623\n",
            "step 4100: train loss 1.7164, val loss 1.8752\n",
            "step 4200: train loss 1.7036, val loss 1.8638\n",
            "step 4300: train loss 1.7016, val loss 1.8463\n",
            "step 4400: train loss 1.7053, val loss 1.8640\n",
            "step 4500: train loss 1.6885, val loss 1.8471\n",
            "step 4600: train loss 1.6917, val loss 1.8364\n",
            "step 4700: train loss 1.6839, val loss 1.8411\n",
            "step 4800: train loss 1.6672, val loss 1.8399\n",
            "step 4900: train loss 1.6708, val loss 1.8384\n",
            "step 4999: train loss 1.6627, val loss 1.8207\n",
            "\n",
            "FlY BOLINGHARD:\n",
            "Nay, humbract; it contes too\n",
            "must encleming and the second; and say life;\n",
            "In enter all I are and those it;\n",
            "Give out of your I'll tom them nither,\n",
            "One these is news it cy rege;\n",
            "What Naying well and Burryres an fear?\n",
            "\n",
            "OXITVOHN MONFIUS:\n",
            "O is my mily.\n",
            "\n",
            "LEONTES:\n",
            "Geve worman:\n",
            "But guontt not; do spost I vour have well;\n",
            "Not and go the rivisher's become,\n",
            "And alight, upon Crame be with the On man.\n",
            "\n",
            "Roman:\n",
            "What I would and Capolicioual;\n",
            "And wife must he awour,\n",
            "Butcousins the solle with he twomment. Gefore hild you sure\n",
            "That state my not.\n",
            "\n",
            "DUKE OF YORK:\n",
            "My surnt not I have too gentle men\n",
            "Comily comport's that him; I cannot this your\n",
            "house. But as bathol! and now your and;\n",
            "Which-suppy will to coursein to shall her spersend,\n",
            "That you holk all gentled to plartes no mune in en slaicsion,\n",
            "But\n",
            "Thmal, but terruly friend\n",
            "Ristom with the rigess and wilt tentry:\n",
            "I dry that kisspy guase, we mine! crut while with up,\n",
            "I som fries that neish he pray, if,\n",
            "Thom the hre seinged fleby devir begom as goody.\n",
            "Go as thee, thou would may night.\n",
            "\n",
            "ROMEO:\n",
            "It gantle behone, thy lasbeet, him our sitive on;\n",
            "The now to be, all gokss noblambsties. joy to you would do to the woold,\n",
            "Northy will your sould in him, Andrend.\n",
            "\n",
            "LE:\n",
            "My, wense what I will betters, that them end all the sposse is seeess,\n",
            "I Tostry experirts livants you great?\n",
            "I shalk I suort set, for this glied.\n",
            "The some it, men vanty lieht. Murst; or us Volner, still;\n",
            "I wear his crumpurats there suiless Edwift a thoughanted to your ground.\n",
            "Where-be in his is\n",
            "Hard tode toble anoced me the ords,\n",
            "Wonestiful be sweet flough. were you, where 'twon enmer, 'word.\n",
            "\n",
            "POMPEY:\n",
            "Whus bot azy houth this sele yourders?\n",
            "\n",
            "POLFORD NORK:\n",
            "Yet O, sapewer, conted, so, good agion mise thy done\n",
            "on his iffather Befole wefpate,\n",
            "And hrow I teass in I knounged my spite\n",
            "but age so sucalf me with non your\n",
            "and:\n",
            "As one thums of the slive righanneds:\n",
            "Has then that with, and wein that we sterp'd hurse comison toOH!\n",
            "\n",
            "SICHAM:\n",
            "What'm, I have it:\n",
            "Twere I pear news,\n",
            "Twas wha\n"
          ]
        }
      ]
    },
    {
      "cell_type": "code",
      "source": [],
      "metadata": {
        "id": "fjjvMifYZf7x"
      },
      "execution_count": null,
      "outputs": []
    }
  ]
}